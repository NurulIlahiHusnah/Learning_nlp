{
 "cells": [
  {
   "cell_type": "code",
   "execution_count": 1,
   "id": "00cee6b6",
   "metadata": {},
   "outputs": [],
   "source": [
    "import re"
   ]
  },
  {
   "cell_type": "code",
   "execution_count": 2,
   "id": "b3ace667",
   "metadata": {},
   "outputs": [],
   "source": [
    "chat1 = 'codebasics: you ask lot of question 😠  1235678912, abc@xyz.com, 9998881234'\n",
    "chat2 = 'codebasics: here it is:  (123)-567-8912, abX54@xyz.com'\n",
    "chat3 = 'codebasics: yes, phone: 1235678912 email: abKc@xyz.com'"
   ]
  },
  {
   "cell_type": "code",
   "execution_count": 3,
   "id": "3469f7ca",
   "metadata": {},
   "outputs": [
    {
     "name": "stdout",
     "output_type": "stream",
     "text": [
      "['1235678912', '9998881234']\n",
      "['(123)-567-8912']\n",
      "['1235678912']\n"
     ]
    }
   ],
   "source": [
    "# untuk menampilkan pola nomor telepon\n",
    "pattern ='\\d{10}|\\(\\d{3}\\)-\\d{3}-\\d{4}'\n",
    "matches1 = re.findall(pattern, chat1)\n",
    "matches2 = re.findall(pattern, chat2)\n",
    "matches3 = re.findall(pattern, chat3)\n",
    "print(matches1)\n",
    "print(matches2)\n",
    "print(matches3)"
   ]
  },
  {
   "cell_type": "code",
   "execution_count": 4,
   "id": "bcc52cca",
   "metadata": {},
   "outputs": [
    {
     "data": {
      "text/plain": [
       "'abKc@xyz.com'"
      ]
     },
     "execution_count": 4,
     "metadata": {},
     "output_type": "execute_result"
    }
   ],
   "source": [
    "# untuk menampilkan pola email\n",
    "pattern= '[a-zA-Z0-9_]*@[a-zA-Z0-9_]*\\.[a-zA-Z]*'\n",
    "matches = re.findall(pattern, chat3)\n",
    "email = matches[0]\n",
    "email"
   ]
  },
  {
   "cell_type": "code",
   "execution_count": 5,
   "id": "a32247f6",
   "metadata": {},
   "outputs": [
    {
     "name": "stdout",
     "output_type": "stream",
     "text": [
      "['abc@xyz.com']\n",
      "['abX54@xyz.com']\n",
      "['abKc@xyz.com']\n"
     ]
    }
   ],
   "source": [
    "# untuk menampilkan pola email\n",
    "pattern ='[a-zA-Z0-9_]*@[a-zA-Z0-9_]*\\.[a-zA-Z]*'\n",
    "matches1 = re.findall(pattern, chat1)\n",
    "matches2 = re.findall(pattern, chat2)\n",
    "matches3 = re.findall(pattern, chat3)\n",
    "print(matches1)\n",
    "print(matches2)\n",
    "print(matches3)"
   ]
  },
  {
   "cell_type": "code",
   "execution_count": 6,
   "id": "b7785410",
   "metadata": {},
   "outputs": [],
   "source": [
    "chat4 = 'codebasics: Hello, I am having an issue with my order # 16564646'\n",
    "chat5 = 'codebasics: I have a problem with my order number 15649584849'\n",
    "chat6 = 'codebasics: My order 4498494944 is having an issue, I was charged 300$ when online it says 280$'"
   ]
  },
  {
   "cell_type": "code",
   "execution_count": 7,
   "id": "14d4e589",
   "metadata": {},
   "outputs": [
    {
     "data": {
      "text/plain": [
       "['4498494944']"
      ]
     },
     "execution_count": 7,
     "metadata": {},
     "output_type": "execute_result"
    }
   ],
   "source": [
    "# untuk menampilkan kode orderan\n",
    "pattern = 'order[^\\d]*(\\d*)'# tanda kurung digunakan untuk menampilkan value yang hanya ingin dikeluarkan \n",
    "matches = re.findall(pattern, chat6)\n",
    "matches"
   ]
  },
  {
   "cell_type": "code",
   "execution_count": 8,
   "id": "2af48452",
   "metadata": {},
   "outputs": [
    {
     "name": "stdout",
     "output_type": "stream",
     "text": [
      "['16564646']\n",
      "['15649584849']\n",
      "['4498494944']\n"
     ]
    }
   ],
   "source": [
    "# untuk menampilkan kode orderan\n",
    "pattern = 'order[^\\d]*(\\d*)'\n",
    "matches1 = re.findall(pattern, chat4)\n",
    "matches2 = re.findall(pattern, chat5)\n",
    "matches3 = re.findall(pattern, chat6)\n",
    "print(matches1)\n",
    "print(matches2)\n",
    "print(matches3)"
   ]
  },
  {
   "cell_type": "code",
   "execution_count": 9,
   "id": "6ea6f0ba",
   "metadata": {},
   "outputs": [
    {
     "data": {
      "text/plain": [
       "['order number 15649584849']"
      ]
     },
     "execution_count": 9,
     "metadata": {},
     "output_type": "execute_result"
    }
   ],
   "source": [
    "# untuk menampilkan kode orderan\n",
    "pattern = 'order[^\\d]*\\d*' # jika tidak menggunakan tanda kurung maka hasilnya akan full tertampil\n",
    "matches = re.findall(pattern, chat5)\n",
    "matches"
   ]
  },
  {
   "cell_type": "code",
   "execution_count": 10,
   "id": "d144933d",
   "metadata": {},
   "outputs": [
    {
     "name": "stdout",
     "output_type": "stream",
     "text": [
      "['order # 16564646']\n",
      "['order number 15649584849']\n",
      "['order 4498494944']\n"
     ]
    }
   ],
   "source": [
    "# untuk menampilkan kode orderan\n",
    "pattern = 'order[^\\d]*\\d*'\n",
    "matches1 = re.findall(pattern, chat4)\n",
    "matches2 = re.findall(pattern, chat5)\n",
    "matches3 = re.findall(pattern, chat6)\n",
    "print(matches1)\n",
    "print(matches2)\n",
    "print(matches3)"
   ]
  },
  {
   "cell_type": "code",
   "execution_count": 11,
   "id": "9b90eadc",
   "metadata": {},
   "outputs": [],
   "source": [
    "text = '''Musk at the Royal Society admissions day in London, July 2018\n",
    "Born\tElon Reeve Musk\n",
    "June 28, 1971 (age 52)\n",
    "Pretoria, South Africa\n",
    "Citizenship\t\n",
    "South Africa (1971–present)\n",
    "Canada (1989–present)\n",
    "United States (2002–present)\n",
    "Alma mater\t\n",
    "Queen's University\n",
    "Wharton School of the University of Pennsylvania (BS)\n",
    "Occupation\t\n",
    "Entrepreneurengineer\n",
    "Years active\t1995–present\n",
    "Net worth\tUS$ 235.1 billion (January 2021)[1]\n",
    "Height\t188 cm (6 ft 2 in)\n",
    "Title\t\n",
    "Founder, CEO, Lead Designer of SpaceX\n",
    "CEO and Product Architect of Tesla, Inc.\n",
    "CEO of Twitter\n",
    "Co-founder, CEO of Neuralink\n",
    "Founder of The Boring Company\n",
    "Co-founder of Zip2\n",
    "Founder of X.com (now PayPal)\n",
    "Co-founder of OpenAI\n",
    "Chairman of SolarCity\n",
    "Political party\tIndependent\n",
    "Spouse(s)\t\n",
    "Justine Wilson\n",
    "(m. 2000; div. 2008)\n",
    "Talulah Riley\n",
    "(m. 2010; div. 2012)\n",
    "(m. 2013; div. 2016)\n",
    "Partner(s)\tGrimes (2018–2021)\n",
    "Children\t11 (1 deceased)\n",
    "Parent(s)\t\n",
    "Errol Musk (father)\n",
    "Maye Musk (mother)\n",
    "Relatives\t\n",
    "Kimbal Musk (brother)\n",
    "Tosca Musk (sister)\n",
    "Lyndon Rive (cousin)\n",
    "Awards\tFellow of the Royal Society (2018)\n",
    "Signature\n",
    "Elon Musk'''"
   ]
  },
  {
   "cell_type": "code",
   "execution_count": 12,
   "id": "7f1a13db",
   "metadata": {},
   "outputs": [
    {
     "data": {
      "text/plain": [
       "['52']"
      ]
     },
     "execution_count": 12,
     "metadata": {},
     "output_type": "execute_result"
    }
   ],
   "source": [
    "# menampilkan usia\n",
    "pattern = 'age (\\d+)'\n",
    "matches = re.findall(pattern, text)\n",
    "matches"
   ]
  },
  {
   "cell_type": "code",
   "execution_count": 13,
   "id": "24be36bf",
   "metadata": {},
   "outputs": [
    {
     "data": {
      "text/plain": [
       "[]"
      ]
     },
     "execution_count": 13,
     "metadata": {},
     "output_type": "execute_result"
    }
   ],
   "source": [
    "# menampilkan nama \n",
    "pattern = 'Born (.*)'\n",
    "matches = re.findall(pattern, text)\n",
    "matches"
   ]
  },
  {
   "cell_type": "code",
   "execution_count": 14,
   "id": "ca48e91c",
   "metadata": {},
   "outputs": [
    {
     "data": {
      "text/plain": [
       "'June 28, 1971'"
      ]
     },
     "execution_count": 14,
     "metadata": {},
     "output_type": "execute_result"
    }
   ],
   "source": [
    "# menampilkan nama \n",
    "pattern = 'Born.*\\n(.*)\\(age'\n",
    "matches = re.findall(pattern, text)\n",
    "matches[0].strip()"
   ]
  },
  {
   "cell_type": "code",
   "execution_count": 15,
   "id": "f737622c",
   "metadata": {},
   "outputs": [
    {
     "data": {
      "text/plain": [
       "'Pretoria, South Africa'"
      ]
     },
     "execution_count": 15,
     "metadata": {},
     "output_type": "execute_result"
    }
   ],
   "source": [
    "# menampilkan tempat lahir\n",
    "pattern = '\\(age.*\\n(.*)'\n",
    "matches = re.findall(pattern, text)\n",
    "matches[0].strip()"
   ]
  },
  {
   "cell_type": "code",
   "execution_count": 16,
   "id": "4661c143",
   "metadata": {},
   "outputs": [],
   "source": [
    "def get_pettern_match(pattern, text):\n",
    "    matches = re.findall(pattern, text)\n",
    "    if matches:\n",
    "        return matches[0]"
   ]
  },
  {
   "cell_type": "code",
   "execution_count": 17,
   "id": "7995033a",
   "metadata": {},
   "outputs": [
    {
     "data": {
      "text/plain": [
       "'Pretoria, South Africa'"
      ]
     },
     "execution_count": 17,
     "metadata": {},
     "output_type": "execute_result"
    }
   ],
   "source": [
    "get_pettern_match('\\(age.*\\n(.*)', text)"
   ]
  },
  {
   "cell_type": "code",
   "execution_count": 18,
   "id": "eed43b31",
   "metadata": {},
   "outputs": [],
   "source": [
    "def get_personal_information(text):\n",
    "    age = get_pettern_match('age (\\d+)', text)\n",
    "    full_name = get_pettern_match('Born(.*)\\n',text)\n",
    "    birth_date = get_pettern_match('Born.*\\n(.*)\\(age',text)\n",
    "    birth_place = get_pettern_match('\\(age.*\\n(.*)',text)\n",
    "    \n",
    "    return{\n",
    "        'age': int(age),\n",
    "        'name': full_name.strip(),\n",
    "        'brith_date': birth_date.strip(),\n",
    "        'birth_place': birth_place.strip()\n",
    "        \n",
    "    }"
   ]
  },
  {
   "cell_type": "code",
   "execution_count": 19,
   "id": "ff37881a",
   "metadata": {},
   "outputs": [
    {
     "data": {
      "text/plain": [
       "{'age': 52,\n",
       " 'name': 'Elon Reeve Musk',\n",
       " 'brith_date': 'June 28, 1971',\n",
       " 'birth_place': 'Pretoria, South Africa'}"
      ]
     },
     "execution_count": 19,
     "metadata": {},
     "output_type": "execute_result"
    }
   ],
   "source": [
    "get_personal_information(text)"
   ]
  },
  {
   "cell_type": "code",
   "execution_count": null,
   "id": "3522432b",
   "metadata": {},
   "outputs": [],
   "source": []
  }
 ],
 "metadata": {
  "kernelspec": {
   "display_name": "Python 3 (ipykernel)",
   "language": "python",
   "name": "python3"
  },
  "language_info": {
   "codemirror_mode": {
    "name": "ipython",
    "version": 3
   },
   "file_extension": ".py",
   "mimetype": "text/x-python",
   "name": "python",
   "nbconvert_exporter": "python",
   "pygments_lexer": "ipython3",
   "version": "3.9.13"
  }
 },
 "nbformat": 4,
 "nbformat_minor": 5
}
